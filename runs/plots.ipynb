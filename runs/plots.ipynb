{
 "cells": [
  {
   "cell_type": "markdown",
   "id": "1770efb3-6328-4042-a74f-ec0d76c1ea96",
   "metadata": {},
   "source": [
    "# Plot"
   ]
  },
  {
   "cell_type": "markdown",
   "id": "2e36b54b-7e38-4f09-b782-0f674b8389c7",
   "metadata": {},
   "source": [
    "## Librairies"
   ]
  },
  {
   "cell_type": "code",
   "execution_count": 1,
   "id": "7ef82952-bec2-4a21-95af-12dd26752a5c",
   "metadata": {},
   "outputs": [],
   "source": [
    "import os\n",
    "\n",
    "import numpy as np\n",
    "import pandas as pd\n",
    "\n",
    "import matplotlib.pyplot as plt\n",
    "# plt.style.use('ggplot')"
   ]
  },
  {
   "cell_type": "markdown",
   "id": "5676984f-6f75-499a-8604-f055e18f28ba",
   "metadata": {},
   "source": [
    "## Plots"
   ]
  },
  {
   "cell_type": "code",
   "execution_count": 2,
   "id": "32ba24f1-230d-45aa-af61-a814c72898ee",
   "metadata": {},
   "outputs": [],
   "source": [
    "# Choose your run file\n",
    "file = os.path.join(os.getcwd(), \"new_simul_26.csv\")\n",
    "df = pd.read_csv(file, header=\"infer\")"
   ]
  },
  {
   "cell_type": "code",
   "execution_count": 3,
   "id": "337b5758-07fc-4de0-bed2-689735760e6f",
   "metadata": {},
   "outputs": [
    {
     "data": {
      "text/html": [
       "<div>\n",
       "<style scoped>\n",
       "    .dataframe tbody tr th:only-of-type {\n",
       "        vertical-align: middle;\n",
       "    }\n",
       "\n",
       "    .dataframe tbody tr th {\n",
       "        vertical-align: top;\n",
       "    }\n",
       "\n",
       "    .dataframe thead th {\n",
       "        text-align: right;\n",
       "    }\n",
       "</style>\n",
       "<table border=\"1\" class=\"dataframe\">\n",
       "  <thead>\n",
       "    <tr style=\"text-align: right;\">\n",
       "      <th></th>\n",
       "      <th>memory_length</th>\n",
       "      <th>nb_attractors</th>\n",
       "      <th>min_attractors</th>\n",
       "      <th>max_attractors</th>\n",
       "      <th>eta</th>\n",
       "      <th>tick</th>\n",
       "    </tr>\n",
       "  </thead>\n",
       "  <tbody>\n",
       "    <tr>\n",
       "      <th>0</th>\n",
       "      <td>1</td>\n",
       "      <td>45</td>\n",
       "      <td>45</td>\n",
       "      <td>45</td>\n",
       "      <td>0.1500</td>\n",
       "      <td>0</td>\n",
       "    </tr>\n",
       "    <tr>\n",
       "      <th>1</th>\n",
       "      <td>1</td>\n",
       "      <td>45</td>\n",
       "      <td>45</td>\n",
       "      <td>45</td>\n",
       "      <td>0.1500</td>\n",
       "      <td>0</td>\n",
       "    </tr>\n",
       "    <tr>\n",
       "      <th>2</th>\n",
       "      <td>1</td>\n",
       "      <td>45</td>\n",
       "      <td>45</td>\n",
       "      <td>45</td>\n",
       "      <td>0.1500</td>\n",
       "      <td>0</td>\n",
       "    </tr>\n",
       "    <tr>\n",
       "      <th>3</th>\n",
       "      <td>1</td>\n",
       "      <td>45</td>\n",
       "      <td>45</td>\n",
       "      <td>45</td>\n",
       "      <td>0.1500</td>\n",
       "      <td>0</td>\n",
       "    </tr>\n",
       "    <tr>\n",
       "      <th>4</th>\n",
       "      <td>1</td>\n",
       "      <td>45</td>\n",
       "      <td>45</td>\n",
       "      <td>45</td>\n",
       "      <td>0.1500</td>\n",
       "      <td>0</td>\n",
       "    </tr>\n",
       "    <tr>\n",
       "      <th>...</th>\n",
       "      <td>...</td>\n",
       "      <td>...</td>\n",
       "      <td>...</td>\n",
       "      <td>...</td>\n",
       "      <td>...</td>\n",
       "      <td>...</td>\n",
       "    </tr>\n",
       "    <tr>\n",
       "      <th>2995</th>\n",
       "      <td>565</td>\n",
       "      <td>28</td>\n",
       "      <td>28</td>\n",
       "      <td>45</td>\n",
       "      <td>0.1500</td>\n",
       "      <td>0</td>\n",
       "    </tr>\n",
       "    <tr>\n",
       "      <th>2996</th>\n",
       "      <td>564</td>\n",
       "      <td>28</td>\n",
       "      <td>28</td>\n",
       "      <td>45</td>\n",
       "      <td>0.1500</td>\n",
       "      <td>0</td>\n",
       "    </tr>\n",
       "    <tr>\n",
       "      <th>2997</th>\n",
       "      <td>563</td>\n",
       "      <td>209</td>\n",
       "      <td>28</td>\n",
       "      <td>209</td>\n",
       "      <td>0.0075</td>\n",
       "      <td>0</td>\n",
       "    </tr>\n",
       "    <tr>\n",
       "      <th>2998</th>\n",
       "      <td>562</td>\n",
       "      <td>209</td>\n",
       "      <td>28</td>\n",
       "      <td>209</td>\n",
       "      <td>0.0075</td>\n",
       "      <td>0</td>\n",
       "    </tr>\n",
       "    <tr>\n",
       "      <th>2999</th>\n",
       "      <td>561</td>\n",
       "      <td>209</td>\n",
       "      <td>28</td>\n",
       "      <td>209</td>\n",
       "      <td>0.0075</td>\n",
       "      <td>0</td>\n",
       "    </tr>\n",
       "  </tbody>\n",
       "</table>\n",
       "<p>3000 rows × 6 columns</p>\n",
       "</div>"
      ],
      "text/plain": [
       "      memory_length  nb_attractors  min_attractors  max_attractors     eta  \\\n",
       "0                 1             45              45              45  0.1500   \n",
       "1                 1             45              45              45  0.1500   \n",
       "2                 1             45              45              45  0.1500   \n",
       "3                 1             45              45              45  0.1500   \n",
       "4                 1             45              45              45  0.1500   \n",
       "...             ...            ...             ...             ...     ...   \n",
       "2995            565             28              28              45  0.1500   \n",
       "2996            564             28              28              45  0.1500   \n",
       "2997            563            209              28             209  0.0075   \n",
       "2998            562            209              28             209  0.0075   \n",
       "2999            561            209              28             209  0.0075   \n",
       "\n",
       "      tick  \n",
       "0        0  \n",
       "1        0  \n",
       "2        0  \n",
       "3        0  \n",
       "4        0  \n",
       "...    ...  \n",
       "2995     0  \n",
       "2996     0  \n",
       "2997     0  \n",
       "2998     0  \n",
       "2999     0  \n",
       "\n",
       "[3000 rows x 6 columns]"
      ]
     },
     "execution_count": 3,
     "metadata": {},
     "output_type": "execute_result"
    }
   ],
   "source": [
    "df"
   ]
  },
  {
   "cell_type": "code",
   "execution_count": 4,
   "id": "d202e22f-586e-4b99-a555-33aa5110ce1a",
   "metadata": {},
   "outputs": [],
   "source": [
    "steps = df.index.values                     # List of simulation steps (x-axis)\n",
    "ticks = df[\"tick\"].values.nonzero()[0]      # List of ticks (memory data points)\n",
    "memory = df[\"memory_length\"].values         # List of memory size values\n",
    "nb_attractors = df[\"nb_attractors\"].values  # List of number of attractors\n",
    "learning_rates = df[\"eta\"].values           # List of learning rates"
   ]
  },
  {
   "cell_type": "code",
   "execution_count": 5,
   "id": "2d9a9664-7252-4639-92c3-c26d991851c4",
   "metadata": {},
   "outputs": [
    {
     "data": {
      "image/png": "[encoded data removed]",
      "text/plain": [
       "<Figure size 864x432 with 3 Axes>"
      ]
     },
     "metadata": {
      "needs_background": "light"
     },
     "output_type": "display_data"
    }
   ],
   "source": [
    "import matplotlib.pyplot as plt\n",
    "\n",
    "# Create a figure and set of subplots with custom heights for each row\n",
    "fig, (ax2, ax1, ax3) = plt.subplots(3, 1, figsize=(12, 6), sharex=True, gridspec_kw={'height_ratios': [0.5, 2, 0.5]})\n",
    "\n",
    "# Plot the memory on the first subplot (ax2), which is the shorter plot\n",
    "ax2.plot(steps, memory, color='red', alpha=1)\n",
    "# Add vertical lines at each tick in ax1\n",
    "for tick in ticks:\n",
    "    ax2.axvline(x=tick, ymin=0, ymax=0.075, linewidth=4, color='blue')\n",
    "ax2.set_ylabel('Memory', size=12)\n",
    "ax2.tick_params(axis='y')\n",
    "ax2.grid(True)\n",
    "\n",
    "# Plot the number of attractors on the second subplot (ax1), which is the taller plot\n",
    "ax1.plot(steps, nb_attractors, color='black', label='Number of Attractors')\n",
    "ax1.set_xlabel('Steps', size=12)\n",
    "ax1.set_ylabel('Number of Attractors', size=12)\n",
    "ax1.tick_params(axis='y')\n",
    "ax1.grid(True)\n",
    "\n",
    "# Plot the learning rates\n",
    "ax3.plot(steps, learning_rates, color='green', alpha=1)\n",
    "ax3.set_ylabel('$\\lambda(t)$', size=12)\n",
    "ax3.tick_params(axis='y')\n",
    "ax3.grid(True)\n",
    "\n",
    "# Adjust layout to prevent overlap\n",
    "fig.tight_layout()\n",
    "\n",
    "# Show the plot\n",
    "plt.show()\n"
   ]
  },
  {
   "cell_type": "code",
   "execution_count": null,
   "id": "5d13cdd9",
   "metadata": {},
   "outputs": [],
   "source": []
  },
  {
   "cell_type": "code",
   "execution_count": null,
   "id": "53153810",
   "metadata": {},
   "outputs": [],
   "source": []
  },
  {
   "cell_type": "code",
   "execution_count": null,
   "id": "526d43bb",
   "metadata": {},
   "outputs": [
    {
     "name": "stdout",
     "output_type": "stream",
     "text": [
      "A_default\n",
      " [[-0.5  -1.21 -0.23  0.82  2.3   1.16]\n",
      " [ 1.3  -0.94  0.1   0.53  1.16  1.01]\n",
      " [-0.5  -1.17 -0.28  1.16  0.94  0.99]\n",
      " [ 1.01  0.68 -0.1  -1.1  -1.33  1.19]\n",
      " [ 0.24 -0.61  0.01  0.23 -0.49 -0.85]]\n",
      "A_default\n",
      " [[-0.5  -1.21 -0.23  0.    0.    1.16]\n",
      " [ 0.   -0.    0.    0.53  0.    1.01]\n",
      " [-0.5  -0.   -0.    1.16  0.    0.  ]\n",
      " [ 1.01  0.   -0.1  -1.1  -1.33  0.  ]\n",
      " [ 0.   -0.    0.    0.   -0.   -0.  ]]\n",
      "A\n",
      " [[ 142.24 -142.68  119.33    0.     -0.     71.81]\n",
      " [   0.     -0.      0.     72.8    -0.   -106.26]\n",
      " [  -3.45   -0.     -0.    118.79    0.      0.  ]\n",
      " [ 145.24   -0.     11.51   52.62 -156.51    0.  ]\n",
      " [   0.     -0.     -0.      0.     -0.     -0.  ]]\n",
      "clipped A\n",
      " [[-0.   -1.71  0.27  0.   -0.    1.66]\n",
      " [ 0.   -0.    0.    1.03 -0.    0.51]\n",
      " [-1.   -0.   -0.    1.66  0.    0.  ]\n",
      " [ 1.51 -0.    0.4  -0.6  -1.83  0.  ]\n",
      " [ 0.   -0.   -0.    0.   -0.   -0.  ]]\n"
     ]
    }
   ],
   "source": [
    "np.set_printoptions(suppress=True)\n",
    "\n",
    "bounds=(-0.5, 0.5)\n",
    "A_default = np.random.normal(0, 1, size=(5, 6))\n",
    "print(\"A_default\\n\", np.round(A_default, 2))\n",
    "mask = np.random.randint(0,2, size=(5, 6), dtype=bool)      # XXX\n",
    "A_default = A_default * mask\n",
    "print(\"A_default\\n\", np.round(A_default, 2))\n",
    "dim = A_default.shape[0], A_default.shape[1]\n",
    "mu_A = 100*np.random.normal(0, 1, size=dim)\n",
    "sigma2_A = np.abs(np.random.normal(0, 1, size=dim))\n",
    "mu_A\n",
    "A = np.random.normal(mu_A, sigma2_A, size=dim)\n",
    "A = A * mask\n",
    "print(\"A\\n\", np.round(A, 2))\n",
    "A = np.maximum(A, A_default + bounds[0])  # clipping values (adding negative bound)\n",
    "A = np.minimum(A, A_default + bounds[1])  # clipping values (adding positive bound)\n",
    "print(\"clipped A\\n\", np.round(A, 2))"
   ]
  },
  {
   "cell_type": "code",
   "execution_count": 17,
   "id": "e0e4ee63",
   "metadata": {},
   "outputs": [],
   "source": [
    "# to be continued"
   ]
  },
  {
   "cell_type": "code",
   "execution_count": null,
   "id": "990584b1",
   "metadata": {},
   "outputs": [],
   "source": [
    "\n",
    "def GSP(A_default, mu_A, sigma2_A, bounds=(-0.5, 0.5)):\n",
    "    \"\"\"\n",
    "    Applies a global stochastic plasticity rule to (non-interactive) connections in matrix A.\n",
    "    Each non-zero weight a_ij of A is sampled in the normal distribution N(mu_ij, sigma2_ij)\n",
    "    If A stretches beyond the bounds [A_default + bounds[0], A_default + bounds[0]], then it is clipped.\n",
    "    \n",
    "    Args:\n",
    "        A_default (np.ndarray): Default (initial) weight matrix for bounding weight changes.\n",
    "        mu_A (np.ndarray): Matrix of means w.r.t. which the new weights will be sampled.\n",
    "        sigma2_A (np.ndarray): Matrix of variances w.r.t. which the new weights will be sampled.\n",
    "        bounds (tuple, optional): Tuple of lower and upper bounds for weight changes. Defaults to (-0.5, 0.5).\n",
    "\n",
    "    Returns:\n",
    "        np.ndarray: Updated weight matrix A.\n",
    "    \"\"\"\n",
    "\n",
    "    mask = A_default != 0\n",
    "    dim = A_default.shape[0], A_default.shape[1]\n",
    "    A = np.random.normal(mu_A, sigma2_A, size=dim)\n",
    "    A = A * mask\n",
    "    A = np.maximum(A, A_default + bounds[0])  # clipping values (adding negative bound)\n",
    "    A = np.minimum(A, A_default + bounds[1])  # clipping values (adding positive bound)\n",
    "    \n",
    "    return A_default, A, mu_A, sigma2_A"
   ]
  },
  {
   "cell_type": "code",
   "execution_count": 69,
   "id": "733eb363",
   "metadata": {},
   "outputs": [],
   "source": [
    "A_default = np.random.normal(size=(5, 5)) * np.random.randint(0, 2, size=(5, 5))\n",
    "mu_A = np.random.normal(size=(5, 5))\n",
    "sigma2_A = np.abs(np.random.normal(size=(5, 5)) / 100)"
   ]
  },
  {
   "cell_type": "code",
   "execution_count": 70,
   "id": "a71a927e",
   "metadata": {},
   "outputs": [
    {
     "data": {
      "text/plain": [
       "(array([[ 0.        , -0.        , -0.        ,  0.        , -0.        ],\n",
       "        [-1.17235258, -0.        , -0.        , -0.        , -0.        ],\n",
       "        [-1.83834613, -0.        , -0.        ,  0.54977737, -0.87115663],\n",
       "        [ 0.14257683, -0.        , -0.86668202,  0.5807837 ,  0.        ],\n",
       "        [ 2.54412863,  0.        , -0.        , -1.27165942, -0.53520857]]),\n",
       " array([[-0.        , -0.        , -0.        , -0.        ,  0.        ],\n",
       "        [-0.67235258, -0.        ,  0.        , -0.        ,  0.        ],\n",
       "        [-1.33834613, -0.        , -0.        ,  1.04977737, -0.68119892],\n",
       "        [-0.35742317, -0.        , -0.36668202,  0.0807837 ,  0.        ],\n",
       "        [ 2.04412863,  0.        , -0.        , -0.77165942, -1.03520857]]),\n",
       " array([[-0.12562783, -2.46664143, -0.05185804, -0.61114069,  1.19573858],\n",
       "        [ 0.73404783, -0.86112803,  0.67487172, -0.30577202,  1.51541275],\n",
       "        [-0.26212041, -0.90689967, -0.10500866,  1.78595086, -0.67013439],\n",
       "        [-1.10910593, -0.36834574,  0.12044198, -1.52406002,  2.03519321],\n",
       "        [-0.09266575,  0.65661308, -0.1646853 , -0.2331412 , -1.24257402]]),\n",
       " array([[0.02008365, 0.02812048, 0.00297478, 0.00273724, 0.02072605],\n",
       "        [0.00123925, 0.01178778, 0.00800252, 0.00111976, 0.00174674],\n",
       "        [0.01145799, 0.00459901, 0.00739721, 0.00228901, 0.00935931],\n",
       "        [0.00041184, 0.01377055, 0.02003688, 0.00107694, 0.0042993 ],\n",
       "        [0.00908285, 0.00144529, 0.01400544, 0.00209541, 0.0181959 ]]))"
      ]
     },
     "execution_count": 70,
     "metadata": {},
     "output_type": "execute_result"
    }
   ],
   "source": [
    "GSP(A_default, mu_A, sigma2_A, bounds=(-0.5, 0.5))"
   ]
  },
  {
   "cell_type": "code",
   "execution_count": null,
   "id": "ff839c7a",
   "metadata": {},
   "outputs": [],
   "source": []
  }
 ],
 "metadata": {
  "kernelspec": {
   "display_name": "base",
   "language": "python",
   "name": "python3"
  },
  "language_info": {
   "codemirror_mode": {
    "name": "ipython",
    "version": 3
   },
   "file_extension": ".py",
   "mimetype": "text/x-python",
   "name": "python",
   "nbconvert_exporter": "python",
   "pygments_lexer": "ipython3",
   "version": "3.9.5"
  }
 },
 "nbformat": 4,
 "nbformat_minor": 5
}
