{
 "cells": [
  {
   "cell_type": "markdown",
   "id": "1770efb3-6328-4042-a74f-ec0d76c1ea96",
   "metadata": {},
   "source": [
    "# Plot"
   ]
  },
  {
   "cell_type": "markdown",
   "id": "2e36b54b-7e38-4f09-b782-0f674b8389c7",
   "metadata": {},
   "source": [
    "## Librairies"
   ]
  },
  {
   "cell_type": "code",
   "execution_count": 10,
   "id": "7ef82952-bec2-4a21-95af-12dd26752a5c",
   "metadata": {},
   "outputs": [],
   "source": [
    "import os\n",
    "\n",
    "import numpy as np\n",
    "import pandas as pd\n",
    "import pickle\n",
    "\n",
    "import matplotlib.pyplot as plt\n",
    "plt.style.use('ggplot')"
   ]
  },
  {
   "cell_type": "markdown",
   "id": "5676984f-6f75-499a-8604-f055e18f28ba",
   "metadata": {},
   "source": [
    "## Plots"
   ]
  },
  {
   "cell_type": "code",
   "execution_count": 4,
   "id": "32ba24f1-230d-45aa-af61-a814c72898ee",
   "metadata": {},
   "outputs": [],
   "source": [
    "# Choose your run file\n",
    "file = os.path.join(os.getcwd(), \"new_simul_19.csv\")\n",
    "df = pd.read_csv(file, header=\"infer\")"
   ]
  },
  {
   "cell_type": "code",
   "execution_count": 5,
   "id": "337b5758-07fc-4de0-bed2-689735760e6f",
   "metadata": {},
   "outputs": [
    {
     "data": {
      "text/html": [
       "<div>\n",
       "<style scoped>\n",
       "    .dataframe tbody tr th:only-of-type {\n",
       "        vertical-align: middle;\n",
       "    }\n",
       "\n",
       "    .dataframe tbody tr th {\n",
       "        vertical-align: top;\n",
       "    }\n",
       "\n",
       "    .dataframe thead th {\n",
       "        text-align: right;\n",
       "    }\n",
       "</style>\n",
       "<table border=\"1\" class=\"dataframe\">\n",
       "  <thead>\n",
       "    <tr style=\"text-align: right;\">\n",
       "      <th></th>\n",
       "      <th>memory_length</th>\n",
       "      <th>nb_attractors</th>\n",
       "      <th>min_attractors</th>\n",
       "      <th>max_attractors</th>\n",
       "      <th>eta</th>\n",
       "      <th>tick</th>\n",
       "    </tr>\n",
       "  </thead>\n",
       "  <tbody>\n",
       "    <tr>\n",
       "      <th>0</th>\n",
       "      <td>1</td>\n",
       "      <td>27</td>\n",
       "      <td>27</td>\n",
       "      <td>27</td>\n",
       "      <td>0.15</td>\n",
       "      <td>0</td>\n",
       "    </tr>\n",
       "    <tr>\n",
       "      <th>1</th>\n",
       "      <td>1</td>\n",
       "      <td>27</td>\n",
       "      <td>27</td>\n",
       "      <td>27</td>\n",
       "      <td>0.15</td>\n",
       "      <td>0</td>\n",
       "    </tr>\n",
       "    <tr>\n",
       "      <th>2</th>\n",
       "      <td>1</td>\n",
       "      <td>16</td>\n",
       "      <td>16</td>\n",
       "      <td>16</td>\n",
       "      <td>0.15</td>\n",
       "      <td>0</td>\n",
       "    </tr>\n",
       "    <tr>\n",
       "      <th>3</th>\n",
       "      <td>1</td>\n",
       "      <td>16</td>\n",
       "      <td>16</td>\n",
       "      <td>16</td>\n",
       "      <td>0.15</td>\n",
       "      <td>0</td>\n",
       "    </tr>\n",
       "    <tr>\n",
       "      <th>4</th>\n",
       "      <td>1</td>\n",
       "      <td>16</td>\n",
       "      <td>16</td>\n",
       "      <td>16</td>\n",
       "      <td>0.15</td>\n",
       "      <td>0</td>\n",
       "    </tr>\n",
       "    <tr>\n",
       "      <th>...</th>\n",
       "      <td>...</td>\n",
       "      <td>...</td>\n",
       "      <td>...</td>\n",
       "      <td>...</td>\n",
       "      <td>...</td>\n",
       "      <td>...</td>\n",
       "    </tr>\n",
       "    <tr>\n",
       "      <th>2994</th>\n",
       "      <td>613</td>\n",
       "      <td>1</td>\n",
       "      <td>1</td>\n",
       "      <td>1</td>\n",
       "      <td>0.15</td>\n",
       "      <td>0</td>\n",
       "    </tr>\n",
       "    <tr>\n",
       "      <th>2995</th>\n",
       "      <td>612</td>\n",
       "      <td>1</td>\n",
       "      <td>1</td>\n",
       "      <td>1</td>\n",
       "      <td>0.15</td>\n",
       "      <td>0</td>\n",
       "    </tr>\n",
       "    <tr>\n",
       "      <th>2996</th>\n",
       "      <td>611</td>\n",
       "      <td>1</td>\n",
       "      <td>1</td>\n",
       "      <td>1</td>\n",
       "      <td>0.15</td>\n",
       "      <td>0</td>\n",
       "    </tr>\n",
       "    <tr>\n",
       "      <th>2997</th>\n",
       "      <td>610</td>\n",
       "      <td>1</td>\n",
       "      <td>1</td>\n",
       "      <td>1</td>\n",
       "      <td>0.15</td>\n",
       "      <td>0</td>\n",
       "    </tr>\n",
       "    <tr>\n",
       "      <th>2998</th>\n",
       "      <td>609</td>\n",
       "      <td>1</td>\n",
       "      <td>1</td>\n",
       "      <td>1</td>\n",
       "      <td>0.15</td>\n",
       "      <td>0</td>\n",
       "    </tr>\n",
       "  </tbody>\n",
       "</table>\n",
       "<p>2999 rows × 6 columns</p>\n",
       "</div>"
      ],
      "text/plain": [
       "      memory_length  nb_attractors  min_attractors  max_attractors   eta  tick\n",
       "0                 1             27              27              27  0.15     0\n",
       "1                 1             27              27              27  0.15     0\n",
       "2                 1             16              16              16  0.15     0\n",
       "3                 1             16              16              16  0.15     0\n",
       "4                 1             16              16              16  0.15     0\n",
       "...             ...            ...             ...             ...   ...   ...\n",
       "2994            613              1               1               1  0.15     0\n",
       "2995            612              1               1               1  0.15     0\n",
       "2996            611              1               1               1  0.15     0\n",
       "2997            610              1               1               1  0.15     0\n",
       "2998            609              1               1               1  0.15     0\n",
       "\n",
       "[2999 rows x 6 columns]"
      ]
     },
     "execution_count": 5,
     "metadata": {},
     "output_type": "execute_result"
    }
   ],
   "source": [
    "df"
   ]
  },
  {
   "cell_type": "code",
   "execution_count": 6,
   "id": "d202e22f-586e-4b99-a555-33aa5110ce1a",
   "metadata": {},
   "outputs": [],
   "source": [
    "steps = df.index.values                     # List of simulation steps (x-axis)\n",
    "ticks = df[\"tick\"].values.nonzero()[0]      # List of ticks (memory data points)\n",
    "memory = df[\"memory_length\"].values         # List of memory size values\n",
    "nb_attractors = df[\"nb_attractors\"].values  # List of number of attractors\n",
    "learning_rates = df[\"eta\"].values           # List of learning rates"
   ]
  },
  {
   "cell_type": "code",
   "execution_count": 7,
   "id": "2d9a9664-7252-4639-92c3-c26d991851c4",
   "metadata": {},
   "outputs": [
    {
     "data": {
      "image/png": "[encoded data removed]",
      "text/plain": [
       "<Figure size 864x432 with 3 Axes>"
      ]
     },
     "metadata": {},
     "output_type": "display_data"
    }
   ],
   "source": [
    "import matplotlib.pyplot as plt\n",
    "\n",
    "# Create a figure and set of subplots with custom heights for each row\n",
    "fig, (ax2, ax1, ax3) = plt.subplots(3, 1, figsize=(12, 6), sharex=True, gridspec_kw={'height_ratios': [0.5, 2, 0.5]})\n",
    "\n",
    "# Plot the memory on the first subplot (ax2), which is the shorter plot\n",
    "ax2.plot(steps, memory, color='red', alpha=1)\n",
    "# Add vertical lines at each tick in ax1\n",
    "for tick in ticks:\n",
    "    ax2.axvline(x=tick, ymin=0, ymax=0.075, linewidth=4, color='blue')\n",
    "ax2.set_ylabel('Memory', size=12)\n",
    "ax2.tick_params(axis='y')\n",
    "ax2.grid(True)\n",
    "\n",
    "# Plot the number of attractors on the second subplot (ax1), which is the taller plot\n",
    "ax1.plot(steps, nb_attractors, color='black', label='Number of Attractors')\n",
    "ax1.set_xlabel('Steps', size=12)\n",
    "ax1.set_ylabel('Number of Attractors', size=12)\n",
    "ax1.tick_params(axis='y')\n",
    "ax1.grid(True)\n",
    "\n",
    "# Plot the learning rates\n",
    "ax3.plot(steps, learning_rates, color='green', alpha=1)\n",
    "ax3.set_ylabel('$\\lambda(t)$', size=12)\n",
    "ax3.tick_params(axis='y')\n",
    "ax3.grid(True)\n",
    "\n",
    "# Adjust layout to prevent overlap\n",
    "fig.tight_layout()\n",
    "\n",
    "# Show the plot\n",
    "plt.savefig(\"plots/STDP_19.pdf\")\n",
    "plt.show()\n"
   ]
  },
  {
   "cell_type": "code",
   "execution_count": null,
   "id": "5d13cdd9",
   "metadata": {},
   "outputs": [],
   "source": []
  },
  {
   "cell_type": "code",
   "execution_count": null,
   "id": "c2a96630",
   "metadata": {},
   "outputs": [],
   "source": []
  },
  {
   "cell_type": "code",
   "execution_count": 18,
   "id": "987944e1",
   "metadata": {},
   "outputs": [
    {
     "data": {
      "text/plain": [
       "'/Users/jeremie.cabessau-paris2.fr/Desktop/MAIN/Code/Python/My_programs/AttractorDynamics/runs'"
      ]
     },
     "execution_count": 18,
     "metadata": {},
     "output_type": "execute_result"
    }
   ],
   "source": [
    "os.getcwd()"
   ]
  },
  {
   "cell_type": "code",
   "execution_count": 35,
   "id": "b432743f",
   "metadata": {},
   "outputs": [],
   "source": [
    "with open(\"sim_stdp_500_20_20.pkl\", \"rb\") as fh:\n",
    "    sol = pickle.load(fh)"
   ]
  },
  {
   "cell_type": "code",
   "execution_count": 36,
   "id": "e4e285db",
   "metadata": {},
   "outputs": [],
   "source": [
    "sol = np.array(sol)"
   ]
  },
  {
   "cell_type": "code",
   "execution_count": 37,
   "id": "dff198fd",
   "metadata": {},
   "outputs": [
    {
     "data": {
      "text/plain": [
       "[<matplotlib.lines.Line2D at 0x7f90c3ed3940>]"
      ]
     },
     "execution_count": 37,
     "metadata": {},
     "output_type": "execute_result"
    },
    {
     "data": {
      "image/png": "[encoded data removed]",
      "text/plain": [
       "<Figure size 432x288 with 1 Axes>"
      ]
     },
     "metadata": {},
     "output_type": "display_data"
    }
   ],
   "source": [
    "plt.plot(sol)"
   ]
  },
  {
   "cell_type": "code",
   "execution_count": null,
   "id": "b39c2642",
   "metadata": {},
   "outputs": [],
   "source": []
  },
  {
   "cell_type": "code",
   "execution_count": null,
   "id": "6209f45c",
   "metadata": {},
   "outputs": [],
   "source": []
  }
 ],
 "metadata": {
  "kernelspec": {
   "display_name": "base",
   "language": "python",
   "name": "python3"
  },
  "language_info": {
   "codemirror_mode": {
    "name": "ipython",
    "version": 3
   },
   "file_extension": ".py",
   "mimetype": "text/x-python",
   "name": "python",
   "nbconvert_exporter": "python",
   "pygments_lexer": "ipython3",
   "version": "3.9.5"
  }
 },
 "nbformat": 4,
 "nbformat_minor": 5
}
